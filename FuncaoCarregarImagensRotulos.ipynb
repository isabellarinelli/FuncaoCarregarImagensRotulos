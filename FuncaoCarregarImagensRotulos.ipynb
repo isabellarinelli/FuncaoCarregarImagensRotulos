{
  "nbformat": 4,
  "nbformat_minor": 0,
  "metadata": {
    "colab": {
      "provenance": [],
      "authorship_tag": "ABX9TyOS+Q1GN8/ORlWQnvxSq69P",
      "include_colab_link": true
    },
    "kernelspec": {
      "name": "python3",
      "display_name": "Python 3"
    },
    "language_info": {
      "name": "python"
    }
  },
  "cells": [
    {
      "cell_type": "markdown",
      "metadata": {
        "id": "view-in-github",
        "colab_type": "text"
      },
      "source": [
        "<a href=\"https://colab.research.google.com/github/isabellarinelli/FuncaoCarregarImagensRotulos/blob/main/FuncaoCarregarImagensRotulos.ipynb\" target=\"_parent\"><img src=\"https://colab.research.google.com/assets/colab-badge.svg\" alt=\"Open In Colab\"/></a>"
      ]
    },
    {
      "cell_type": "code",
      "execution_count": null,
      "metadata": {
        "id": "kMrtuUp_nW_S"
      },
      "outputs": [],
      "source": [
        "# rótulos para classificação binária\n",
        "def carregar_imagens_e_rotulos(diretorio, nomes_classes):\n",
        "    imagens = []\n",
        "    rotulos = []\n",

        "    for classe in os.listdir(diretorio):\n",
        "        caminho_classe = os.path.join(diretorio, classe)\n",
        "        rotulo_classe = nomes_classes.index(classe) #obtém o rótulo da classe\n", 

        "        for nome_img in os.listdir(caminho_classe):\n",
        "            caminho_img = os.path.join(caminho_classe, nome_img)\n",
        "            img = cv2.imread(caminho_img, cv2.IMREAD_GRAYSCALE)\n",
        "            img = cv2.resize(img, (28, 28))\n",
        "            imagens.append(img)\n",
        "            rotulos.append(rotulo_classe)\n", #adiciona o rótulo a lista de rótulos
        "    return np.array(imagens), np.array(rotulos)\n", #converte as listas de imagens e rótulos em arrays numpy
        "\n",
        "X, Y = carregar_imagens_e_rotulos(pasta_treino)"
      ]
    }
  ]
}
